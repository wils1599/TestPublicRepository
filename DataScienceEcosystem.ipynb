{
 "cells": [
  {
   "cell_type": "markdown",
   "id": "3c42dc8f-e30e-4ac3-94dd-b89b1259a5e3",
   "metadata": {},
   "source": [
    "# Data Science Tools and Ecosystem"
   ]
  },
  {
   "cell_type": "markdown",
   "id": "5617a9f8-6c3b-4965-b347-9a1461d1ce61",
   "metadata": {},
   "source": [
    "In this notebook, Data Science Tools and Ecosystem are summarized"
   ]
  },
  {
   "cell_type": "markdown",
   "id": "eae5b17e-978f-46ba-8d33-f042483c83e1",
   "metadata": {},
   "source": [
    "Some of the popular Languages that Data Scientists use are:"
   ]
  },
  {
   "cell_type": "markdown",
   "id": "d04750a5-4e46-4a00-9d0d-e1a975e37526",
   "metadata": {},
   "source": [
    "__Objectives__\n",
    "- What are the popular languages used in Data Science\n",
    "- Introduction to Jupyter Notebook and Libraries\n",
    "- Cloud based Jupyter environments\n",
    "- Introduction to R and RStudio and Libraries\n",
    "- Introduction to Git and Github"
   ]
  },
  {
   "cell_type": "markdown",
   "id": "84a2aaf8-2749-43ae-a2dd-cac0142f0410",
   "metadata": {},
   "source": [
    "1. Python\n",
    "2. R\n",
    "3. Java"
   ]
  },
  {
   "cell_type": "markdown",
   "id": "6ecea271-eaba-4dad-a7c0-62b549e120d8",
   "metadata": {},
   "source": [
    "Some of the commonly used libraries used by Data Scientists include:"
   ]
  },
  {
   "cell_type": "markdown",
   "id": "e8ba57f9-063f-494d-8851-032a2efc4013",
   "metadata": {},
   "source": [
    "- Panda\n",
    "- Numpy\n",
    "- Matplutlib\n",
    "- Kera\n",
    "- TensorFlow\n",
    "- PyTorch"
   ]
  },
  {
   "cell_type": "markdown",
   "id": "561990ad-5948-4e6f-bf56-687589aa3bbc",
   "metadata": {},
   "source": [
    "| Data Science Tools |\n",
    "|--------------------|\n",
    "|Jupyter Notebook|\n",
    "|Zeppelin|\n",
    "|RStudio|"
   ]
  },
  {
   "cell_type": "markdown",
   "id": "ca943aeb-ad79-4746-a292-1f04d97a0ebe",
   "metadata": {},
   "source": [
    "### Below are a few examples of evaluating arithmetic expressions in Python"
   ]
  },
  {
   "cell_type": "code",
   "execution_count": 24,
   "id": "b09098dd-161b-4f36-b324-1ecf91b6946b",
   "metadata": {},
   "outputs": [
    {
     "data": {
      "text/plain": [
       "17"
      ]
     },
     "execution_count": 24,
     "metadata": {},
     "output_type": "execute_result"
    }
   ],
   "source": [
    "# This is a simple arithmetic expression to multiply then add integers\n",
    "\n",
    "(3*4)+5"
   ]
  },
  {
   "cell_type": "code",
   "execution_count": 26,
   "id": "e3452597-a903-4bb1-8c56-ca7195cb5bfc",
   "metadata": {},
   "outputs": [
    {
     "data": {
      "text/plain": [
       "33.333333333333336"
      ]
     },
     "execution_count": 26,
     "metadata": {},
     "output_type": "execute_result"
    }
   ],
   "source": [
    "# This will convert 200 minutes to hours by dividing by 60\n",
    "\n",
    "200/6"
   ]
  },
  {
   "cell_type": "markdown",
   "id": "c66fff77-7d91-448f-8266-ae9275a8c8a0",
   "metadata": {},
   "source": [
    "## Author\n",
    "Will Chan"
   ]
  },
  {
   "cell_type": "code",
   "execution_count": null,
   "id": "f844ba8d-bc5b-49cb-bd49-f375ef900476",
   "metadata": {},
   "outputs": [],
   "source": []
  }
 ],
 "metadata": {
  "kernelspec": {
   "display_name": "Python 3 (ipykernel)",
   "language": "python",
   "name": "python3"
  },
  "language_info": {
   "codemirror_mode": {
    "name": "ipython",
    "version": 3
   },
   "file_extension": ".py",
   "mimetype": "text/x-python",
   "name": "python",
   "nbconvert_exporter": "python",
   "pygments_lexer": "ipython3",
   "version": "3.12.4"
  }
 },
 "nbformat": 4,
 "nbformat_minor": 5
}
